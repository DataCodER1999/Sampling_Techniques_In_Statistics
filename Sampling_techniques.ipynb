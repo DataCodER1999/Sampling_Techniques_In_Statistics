{
 "cells": [
  {
   "cell_type": "markdown",
   "id": "b4dc6785",
   "metadata": {},
   "source": [
    "\n",
    "## 1.Simple Random Sampling:\n",
    "\n",
    "- Simple random sampling is the most basic and common sampling technique in statistics.It involves selecting a random subset of the population with an equal probability of selection."
   ]
  },
  {
   "cell_type": "code",
   "execution_count": 3,
   "id": "83d4f50a",
   "metadata": {},
   "outputs": [
    {
     "name": "stdout",
     "output_type": "stream",
     "text": [
      "[3, 7, 9, 8, 2]\n"
     ]
    }
   ],
   "source": [
    "import random\n",
    "\n",
    "population = [1, 2, 3, 4, 5, 6, 7, 8, 9, 10]\n",
    "sample_size = 5\n",
    "\n",
    "sample = random.sample(population, sample_size)\n",
    "print(sample)\n"
   ]
  },
  {
   "cell_type": "markdown",
   "id": "d2e9c952",
   "metadata": {},
   "source": [
    "## 2.Stratified Sampling:\n",
    " - Stratified sampling involves dividing the population into non-overlapping subgroups or strata and then selecting samples from each stratum in proportion to its size."
   ]
  },
  {
   "cell_type": "code",
   "execution_count": 11,
   "id": "4ddb72f8",
   "metadata": {},
   "outputs": [
    {
     "name": "stdout",
     "output_type": "stream",
     "text": [
      "[3, 1, 10, 7, 9]\n"
     ]
    }
   ],
   "source": [
    "import random\n",
    "\n",
    "population = {\"Male\": [1, 2, 3, 4, 5], \"Female\": [6, 7, 8, 9, 10]}\n",
    "sample_size = {\"Male\": 2, \"Female\": 3}\n",
    "\n",
    "sample = []\n",
    "\n",
    "for smpl in population:\n",
    "    stratum_sample = random.sample(population[smpl], sample_size[smpl])\n",
    "    sample.extend(stratum_sample)\n",
    "\n",
    "print(sample)\n"
   ]
  },
  {
   "cell_type": "markdown",
   "id": "a81ad255",
   "metadata": {},
   "source": [
    "## 2.Cluster Sampling:\n",
    "\n",
    "- Cluster sampling involves dividing the population into clusters or groups and then randomly selecting entire clusters to be included in the sample."
   ]
  },
  {
   "cell_type": "code",
   "execution_count": 14,
   "id": "e03136fb",
   "metadata": {},
   "outputs": [
    {
     "name": "stdout",
     "output_type": "stream",
     "text": [
      "[7, 8, 9, 10, 1, 2, 3]\n"
     ]
    }
   ],
   "source": [
    "import random\n",
    "\n",
    "population = {\"Cluster1\": [1, 2, 3], \"Cluster2\": [4, 5, 6], \"Cluster3\": [7, 8, 9, 10]}\n",
    "clusters_to_select = 2\n",
    "\n",
    "selected_clusters = random.sample(list(population.keys()), clusters_to_select)\n",
    "\n",
    "sample = []\n",
    "\n",
    "for cluster in selected_clusters:\n",
    "    sample.extend(population[cluster])\n",
    "\n",
    "print(sample)\n"
   ]
  },
  {
   "cell_type": "markdown",
   "id": "a78f0c85",
   "metadata": {},
   "source": [
    "## 4. Systematic Sampling:\n",
    "\n",
    "- Systematic sampling involves selecting every nth member of the population to be included in the sample."
   ]
  },
  {
   "cell_type": "code",
   "execution_count": 16,
   "id": "06e11c87",
   "metadata": {},
   "outputs": [
    {
     "name": "stdout",
     "output_type": "stream",
     "text": [
      "[3, 5, 7, 9]\n"
     ]
    }
   ],
   "source": [
    "import random\n",
    "\n",
    "population = [1, 2, 3, 4, 5, 6, 7, 8, 9, 10]\n",
    "sample_size = 4\n",
    "\n",
    "k = len(population) // sample_size\n",
    "start = random.randint(0, k)\n",
    "\n",
    "sample = [population[i] for i in range(start, len(population), k)]\n",
    "\n",
    "print(sample)\n"
   ]
  },
  {
   "cell_type": "markdown",
   "id": "37116780",
   "metadata": {},
   "source": [
    "## 5.Convinience Sampling\n",
    "\n",
    " - Convenience sampling (also known as grab sampling, accidental sampling, or opportunity sampling) is a type of non-probability sampling that involves the sample being drawn from that part of the population that is close to hand."
   ]
  },
  {
   "cell_type": "code",
   "execution_count": 18,
   "id": "5b5bae28",
   "metadata": {},
   "outputs": [
    {
     "name": "stdout",
     "output_type": "stream",
     "text": [
      "Convenience sample: [15, 15, 40, 20, 55]\n"
     ]
    }
   ],
   "source": [
    "import random\n",
    "\n",
    "# Population data\n",
    "population = [10, 15, 20, 25, 30, 35, 40, 45, 50, 55]\n",
    "\n",
    "# Convenience sample\n",
    "sample_size = 5\n",
    "convenience_sample = []\n",
    "\n",
    "for i in range(sample_size):\n",
    "    convenience_sample.append(random.choice(population))\n",
    "\n",
    "print(\"Convenience sample:\", convenience_sample)\n",
    "    "
   ]
  },
  {
   "cell_type": "markdown",
   "id": "4a9ec8d4",
   "metadata": {},
   "source": [
    "## 6. Purposive Sampling\n",
    "\n",
    "- The purposive sampling method is about selecting samples from the overall sample size based on the judgment of the survey taker or researcher.In other words, a purposive sample is collected according to the requirements of the test, survey, or research that it’ll be used for."
   ]
  },
  {
   "cell_type": "code",
   "execution_count": 53,
   "id": "dc02d23f",
   "metadata": {},
   "outputs": [
    {
     "name": "stdout",
     "output_type": "stream",
     "text": [
      "Purposive sample: [{'id': 5, 'age': 40, 'gender': 'Male'}, {'id': 7, 'age': 32, 'gender': 'Male'}, {'id': 9, 'age': 31, 'gender': 'Male'}]\n"
     ]
    }
   ],
   "source": [
    "# Population data\n",
    "population = [\n",
    "    {'id': 1, 'age': 22, 'gender': 'Male'},\n",
    "    {'id': 2, 'age': 35, 'gender': 'Female'},\n",
    "    {'id': 3, 'age': 28, 'gender': 'Male'},\n",
    "    {'id': 4, 'age': 19, 'gender': 'Female'},\n",
    "    {'id': 5, 'age': 40, 'gender': 'Male'},\n",
    "    {'id': 6, 'age': 27, 'gender': 'Female'},\n",
    "    {'id': 7, 'age': 32, 'gender': 'Male'},\n",
    "    {'id': 8, 'age': 25, 'gender': 'Female'},\n",
    "    {'id': 9, 'age': 31, 'gender': 'Male'},\n",
    "    {'id': 10, 'age': 37, 'gender': 'Female'}\n",
    "]\n",
    "\n",
    "# Purposive sample\n",
    "purposive_sample = []\n",
    "for data in population:\n",
    "    if data['gender'] == 'Male' and data['age'] > 30:\n",
    "        purposive_sample.append(data)\n",
    "\n",
    "print(\"Purposive sample:\", purposive_sample)\n"
   ]
  },
  {
   "cell_type": "markdown",
   "id": "decaca96",
   "metadata": {},
   "source": [
    "## 7. Snowball Sampling\n",
    "\n",
    "- Snowball sampling is a recruitment technique in which research participants are asked to assist researchers in identifying other potential subjects."
   ]
  },
  {
   "cell_type": "code",
   "execution_count": 64,
   "id": "4ff9869e",
   "metadata": {},
   "outputs": [
    {
     "name": "stdout",
     "output_type": "stream",
     "text": [
      "Snowball sample: ['Sarah', 'John', 'Jake', 'Michael', 'Chris']\n"
     ]
    }
   ],
   "source": [
    "import random\n",
    "\n",
    "# Population data\n",
    "population = ['John', 'David', 'Sarah', 'Emma', 'Michael', 'Maria', 'Emily', 'Chris', 'Jake', 'Lena', 'Lisa']\n",
    "\n",
    "# Initial sample\n",
    "initial_sample = ['John', 'Sarah']\n",
    "\n",
    "# Snowball sample\n",
    "sample_size = 5\n",
    "snowball_sample = list(initial_sample)\n",
    "\n",
    "while len(snowball_sample) < sample_size:\n",
    "    # Randomly select a person from the initial sample\n",
    "    person = random.choice(initial_sample)\n",
    "    # Find their friends in the population\n",
    "    friends = [p for p in population if p not in snowball_sample and random.random() < 0.5]\n",
    "    # Add their friends to the sample\n",
    "    snowball_sample.extend(friends)\n",
    "    # Add the person who introduced us to their friends\n",
    "    snowball_sample.append(person)\n",
    "    # Remove duplicates\n",
    "    snowball_sample = list(set(snowball_sample))\n",
    "\n",
    "print(\"Snowball sample:\", snowball_sample)\n"
   ]
  },
  {
   "cell_type": "markdown",
   "id": "bfbaf60e",
   "metadata": {},
   "source": [
    "## 8. Quota Sampling\n",
    "\n",
    "- Quota sampling is a non-probability sampling method that relies on the non-random selection of a predetermined number or proportion of units. This is called a quota"
   ]
  },
  {
   "cell_type": "code",
   "execution_count": 74,
   "id": "09583826",
   "metadata": {},
   "outputs": [
    {
     "name": "stdout",
     "output_type": "stream",
     "text": [
      "Quota sample: ['Male', 'Male', 'Other', 'Other', 'Female', 'Other', 'Female', 'Non-Binary', 'Female', 'Other', 'Male', 'Female', 'Non-Binary', 'Male', 'Other', 'Female', 'Non-Binary', 'Non-Binary', 'Other', 'Non-Binary', 'Non-Binary', 'Other', 'Non-Binary', 'Female', 'Non-Binary', 'Other', 'Non-Binary', 'Male', 'Female', 'Other', 'Male', 'Female', 'Female', 'Other', 'Female', 'Female', 'Other', 'Other', 'Female', 'Female', 'Other', 'Female', 'Female', 'Female', 'Female', 'Female', 'Male', 'Male', 'Other', 'Male', 'Other', 'Female', 'Non-Binary', 'Male', 'Other', 'Non-Binary', 'Female', 'Other', 'Non-Binary', 'Other', 'Other', 'Female', 'Male', 'Male', 'Non-Binary', 'Other', 'Other', 'Other', 'Other', 'Other', 'Non-Binary', 'Female', 'Female', 'Female', 'Female', 'Non-Binary', 'Non-Binary', 'Other', 'Non-Binary', 'Female', 'Other', 'Female', 'Other', 'Male', 'Female', 'Male', 'Other', 'Other', 'Other', 'Other', 'Female', 'Male', 'Male', 'Male', 'Non-Binary', 'Male', 'Female', 'Male', 'Other', 'Male', 'Female', 'Other', 'Other', 'Non-Binary', 'Male', 'Male', 'Other', 'Female', 'Non-Binary', 'Male', 'Female', 'Male', 'Female', 'Non-Binary', 'Other', 'Female', 'Female', 'Female', 'Other', 'Other', 'Male', 'Male', 'Male', 'Female', 'Non-Binary', 'Male', 'Non-Binary', 'Non-Binary', 'Male', 'Other', 'Male', 'Male', 'Male', 'Female', 'Male', 'Non-Binary', 'Female', 'Non-Binary', 'Male', 'Female', 'Other', 'Non-Binary', 'Other', 'Male', 'Other', 'Other', 'Non-Binary', 'Non-Binary', 'Male', 'Female', 'Other', 'Non-Binary', 'Male', 'Other', 'Female', 'Female', 'Male', 'Male', 'Female', 'Other', 'Other', 'Non-Binary', 'Other', 'Female', 'Female', 'Male', 'Non-Binary', 'Non-Binary', 'Other', 'Male', 'Other', 'Female', 'Female', 'Male', 'Male', 'Non-Binary', 'Female', 'Male', 'Female', 'Female', 'Female', 'Male', 'Female', 'Female', 'Female', 'Male', 'Non-Binary', 'Non-Binary', 'Male', 'Non-Binary', 'Male', 'Female', 'Female', 'Female', 'Female', 'Non-Binary', 'Non-Binary', 'Female', 'Female', 'Male']\n"
     ]
    }
   ],
   "source": [
    "import random\n",
    "\n",
    "# Population data\n",
    "population = [\"Male\", \"Female\", \"Non-Binary\", \"Other\"]\n",
    "population_sizes = [100, 150, 50, 50]\n",
    "\n",
    "# Quota sample\n",
    "sample_size = 200\n",
    "quota_sample = []\n",
    "quota_sizes = [0, 0, 0, 0]  # Quota sizes for each group\n",
    "\n",
    "for i in range(sample_size):\n",
    "    # Choose a group to sample from based on remaining quota\n",
    "    group = random.choice([i for i in range(len(population_sizes)) if quota_sizes[i] < population_sizes[i]])\n",
    "    # Add a sample from the chosen group to the sample list\n",
    "    quota_sample.append(population[group])\n",
    "    # Increase the quota for the chosen group\n",
    "    quota_sizes[group] += 1\n",
    "\n",
    "print(\"Quota sample:\", quota_sample)\n"
   ]
  },
  {
   "cell_type": "code",
   "execution_count": null,
   "id": "7219d966",
   "metadata": {},
   "outputs": [],
   "source": []
  }
 ],
 "metadata": {
  "kernelspec": {
   "display_name": "Python 3 (ipykernel)",
   "language": "python",
   "name": "python3"
  },
  "language_info": {
   "codemirror_mode": {
    "name": "ipython",
    "version": 3
   },
   "file_extension": ".py",
   "mimetype": "text/x-python",
   "name": "python",
   "nbconvert_exporter": "python",
   "pygments_lexer": "ipython3",
   "version": "3.9.13"
  }
 },
 "nbformat": 4,
 "nbformat_minor": 5
}
